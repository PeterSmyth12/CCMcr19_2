{
 "cells": [
  {
   "cell_type": "markdown",
   "metadata": {},
   "source": [
    "## The task\n",
    "\n",
    "1. Get list of all of the month files in the folder\n",
    "\n",
    "2. Group the files into files for a given year (use a dictionary)\n",
    "\n",
    "3. For each years set of files, concatenate the file entries into a single year file, suitably named At the same time add columns for the date , year and month so that the layout matches a standard year file. Sort the contents of the file into date order \n",
    "\n",
    "4. Combine all of the year files in year order.\n"
   ]
  },
  {
   "cell_type": "code",
   "execution_count": null,
   "metadata": {},
   "outputs": [],
   "source": [
    "# libraries used\n",
    "import pandas as pd\n",
    "import os\n",
    "import csv"
   ]
  },
  {
   "cell_type": "code",
   "execution_count": null,
   "metadata": {},
   "outputs": [],
   "source": [
    "wd = os.getcwd() + '\\data_folder'\n",
    "file_list=os.listdir(wd)\n",
    "\n",
    "#print (file_list)"
   ]
  },
  {
   "cell_type": "code",
   "execution_count": null,
   "metadata": {},
   "outputs": [],
   "source": [
    "# from file_list we only want the files which startwith 'y' and do not contain 'all' - these are the month files\n",
    "\n",
    "mon_files = []\n",
    "for item in file_list :\n",
    "    if item.startswith('y') and item.find('all') == -1 :\n",
    "        mon_files.append(item)\n",
    "mon_files"
   ]
  },
  {
   "cell_type": "code",
   "execution_count": null,
   "metadata": {},
   "outputs": [],
   "source": [
    "# Now put into a dictionary, using the years as the keys and a list of filenames as the values\n",
    "\n",
    "\n",
    "mon_dict = {}\n",
    "\n",
    "for item in mon_files :\n",
    "    if item[1:5] in mon_dict :\n",
    "        mon_dict[item[1:5]].append(item)\n",
    "    else :\n",
    "        mon_dict[item[1:5]]  = []\n",
    "        mon_dict[item[1:5]].append(item)\n",
    "        \n",
    "#mon_dict"
   ]
  },
  {
   "cell_type": "code",
   "execution_count": null,
   "metadata": {},
   "outputs": [],
   "source": [
    "# This dictionary will be used as a lookup table to convert the mmm to nn\n",
    "months = {'jan' : '01',\n",
    "          'feb' : '02',\n",
    "          'mar' : '03',\n",
    "          'apr' : '04',\n",
    "          'may' : '05',\n",
    "          'jun' : '06',\n",
    "          'jul' : '07',\n",
    "          'aug' : '08',\n",
    "          'sep' : '09',\n",
    "          'oct' : '10',\n",
    "          'nov' : '11',\n",
    "          'dec' : '12',\n",
    "         }"
   ]
  },
  {
   "cell_type": "code",
   "execution_count": null,
   "metadata": {},
   "outputs": [],
   "source": [
    "# this function will be used to sort the entries in a year file overwriting the original\n",
    "def sort_file(filename):\n",
    "    df = pd.read_csv(filename)\n",
    "    df.sort_values('date', inplace=True)\n",
    "    df.to_csv(filename, index=False)"
   ]
  },
  {
   "cell_type": "code",
   "execution_count": null,
   "metadata": {},
   "outputs": [],
   "source": [
    "# change the working directory for convenience\n",
    "os.chdir(wd)\n",
    "\n",
    "# crete a header record for the Year files\n",
    "out_header = ['date', 'year', 'month', 'day', 'min', 'max', 'hrs_sunshine']\n",
    "\n",
    "# process the files from the dictionary, one year at a time\n",
    "for key in mon_dict :\n",
    "    filename = 'y' + key + 'all.csv'\n",
    "    with open(filename, mode='w', newline='') as out_file:\n",
    "        out_writer = csv.writer(out_file, delimiter=',')\n",
    "        out_writer.writerow(out_header)\n",
    "\n",
    "        for mon_file in mon_dict[key] :\n",
    "            year = mon_file[1:5]\n",
    "            month = months[mon_file[6:9]]\n",
    "\n",
    "            with open(mon_file) as csv_file:\n",
    "                csv_reader = csv.reader(csv_file, delimiter=',')\n",
    "                line_count = 0\n",
    "                for row in csv_reader:\n",
    "                    if line_count == 0:\n",
    "                        line_count += 1\n",
    "                    else:\n",
    "                        if len(row[0]) == 2 : \n",
    "                            day = row[0] \n",
    "                        else : \n",
    "                            day = '0'+ row[0]\n",
    "                        date = year +'-'+ month + '-' + day\n",
    "                        out_writer.writerow([date, year, month, row[0], row[1], row[2], row[3]])\n",
    "    sort_file(filename)"
   ]
  },
  {
   "cell_type": "markdown",
   "metadata": {},
   "source": [
    "### Part 2\n",
    "\n",
    "We now need to combine all of the year files into a single file\n",
    "\n",
    "This could be offered as an  exercise"
   ]
  },
  {
   "cell_type": "code",
   "execution_count": null,
   "metadata": {},
   "outputs": [],
   "source": [
    "# need to update filelist\n",
    "file_list=os.listdir(wd)\n",
    "\n",
    "# from file_list we only want the files which include 'all' - these are the year files\n",
    "\n",
    "year_files = []\n",
    "for item in file_list :\n",
    "    if item.find('all') != -1 :\n",
    "        year_files.append(item)\n",
    "#sort the list so that the years they will be processed in the correct order        \n",
    "year_files.sort()\n"
   ]
  },
  {
   "cell_type": "code",
   "execution_count": null,
   "metadata": {},
   "outputs": [],
   "source": [
    "# crete a header record for the Year files\n",
    "out_header = ['date', 'year', 'month', 'day', 'min', 'max', 'hrs_sunshine']\n",
    "# think of a filename\n",
    "filename = 'completedata.csv'\n",
    "\n",
    "#open the file and write the header record\n",
    "with open(filename, mode='w', newline='') as out_file:\n",
    "    out_writer = csv.writer(out_file, delimiter=',', quotechar='\"', quoting=csv.QUOTE_MINIMAL)\n",
    "    out_writer.writerow(out_header)\n",
    "    \n",
    "    # read each of the year files and combine them into a single file\n",
    "    for yearfile in year_files :\n",
    "        with open(yearfile) as csv_file:\n",
    "            csv_reader = csv.reader(csv_file, delimiter=',')\n",
    "            line_count = 0\n",
    "            for row in csv_reader:\n",
    "                if line_count == 0:\n",
    "                    line_count += 1\n",
    "                else:\n",
    "                    out_writer.writerow(row)"
   ]
  },
  {
   "cell_type": "code",
   "execution_count": null,
   "metadata": {},
   "outputs": [],
   "source": []
  }
 ],
 "metadata": {
  "kernelspec": {
   "display_name": "Python 3",
   "language": "python",
   "name": "python3"
  },
  "language_info": {
   "codemirror_mode": {
    "name": "ipython",
    "version": 3
   },
   "file_extension": ".py",
   "mimetype": "text/x-python",
   "name": "python",
   "nbconvert_exporter": "python",
   "pygments_lexer": "ipython3",
   "version": "3.7.0"
  }
 },
 "nbformat": 4,
 "nbformat_minor": 2
}
